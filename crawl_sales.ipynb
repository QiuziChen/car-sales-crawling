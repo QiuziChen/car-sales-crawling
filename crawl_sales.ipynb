{
 "cells": [
  {
   "cell_type": "markdown",
   "metadata": {},
   "source": [
    "# Car Sales"
   ]
  },
  {
   "cell_type": "code",
   "execution_count": 1,
   "metadata": {},
   "outputs": [],
   "source": [
    "import pandas as pd\n",
    "from selenium.webdriver.common.by import By\n",
    "from selenium import webdriver\n",
    "from selenium.webdriver.support.ui import WebDriverWait\n",
    "from selenium.webdriver.support import expected_conditions as EC\n",
    "from selenium.webdriver.chrome.service import Service\n",
    "from selenium.webdriver.chrome.options import Options"
   ]
  },
  {
   "cell_type": "markdown",
   "metadata": {},
   "source": [
    "## Get models"
   ]
  },
  {
   "cell_type": "markdown",
   "metadata": {},
   "source": [
    "car sales from 2015/01 - 2016/11"
   ]
  },
  {
   "cell_type": "code",
   "execution_count": 7,
   "metadata": {},
   "outputs": [
    {
     "name": "stdout",
     "output_type": "stream",
     "text": [
      "Page 1 Done!\n",
      "Page 2 Done!\n",
      "Page 3 Done!\n",
      "Page 4 Done!\n",
      "Page 5 Done!\n",
      "Page 6 Done!\n",
      "Page 7 Done!\n",
      "Page 8 Done!\n",
      "Page 9 Done!\n",
      "Page 10 Done!\n",
      "Page 11 Done!\n",
      "All pages done!\n"
     ]
    }
   ],
   "source": [
    "url = 'https://xl.16888.com/style-201501-201611-1.html'\n",
    "\n",
    "service = Service(r'D:\\OneDrive - 东南大学\\5 我的代码\\crawling\\chromedriver\\chromedriver.exe')\n",
    "chrome_options = Options()\n",
    "chrome_options.add_argument('--headless')\n",
    "chrome_options.add_experimental_option('excludeSwitches', ['enable-logging'])\n",
    "prefs = {\"profile.managed_default_content_settings.images\": 2, 'permissions.default.stylesheet': 2}\n",
    "chrome_options.add_experimental_option(\"prefs\", prefs)\n",
    "chrome_options.add_argument('lang=zh_CN.utf-8')\n",
    "driver = webdriver.Chrome(service=service, options=chrome_options)\n",
    "\n",
    "try:\n",
    "    driver.get(url)\n",
    "except:\n",
    "    print(\"No Data.\")\n",
    "wait = WebDriverWait(driver, 10)\n",
    "\n",
    "# define data file\n",
    "data = []\n",
    "columns = ['排名', '车型', '销量', '级别', '指导价(万元)', '燃油类型', '整备质量(kg)', '前轮制动', '后轮制动']\n",
    "page = 1\n",
    "# iterate pages\n",
    "while True:\n",
    "\n",
    "    # get items\n",
    "    table = driver.find_element(By.CSS_SELECTOR, 'body > div:nth-child(5) > div.xl-section.clr > div.xl-section-r.fr > div > div.xl-table-view > div.xl-table-data > table > tbody')\n",
    "    rows = table.find_elements(By.TAG_NAME, 'tr')\n",
    "    for row in rows:\n",
    "        # sales data\n",
    "        cells = row.find_elements(By.TAG_NAME, 'td')\n",
    "        line = [cell.text for cell in cells[:-1]]\n",
    "        if line:\n",
    "            model = line[1]\n",
    "            sale = line[2]\n",
    "            data.append([model, sale])\n",
    "    \n",
    "    print(\"Page %d Done!\" % page)\n",
    "    page += 1\n",
    "    \n",
    "    try:\n",
    "        # wait for next page botton\n",
    "        next_page = wait.until(EC.element_to_be_clickable((By.CSS_SELECTOR, 'a.lineBlock.next')))\n",
    "        # click next page\n",
    "        next_page.click()\n",
    "        # wait for next page\n",
    "        wait.until(EC.staleness_of(next_page))\n",
    "    except:\n",
    "        print('All pages done!')\n",
    "        break\n",
    "driver.close()"
   ]
  },
  {
   "cell_type": "code",
   "execution_count": 65,
   "metadata": {},
   "outputs": [],
   "source": [
    "df = pd.DataFrame(data, columns=['model', 'sales'])\n",
    "df['class'] = None\n",
    "df['fuel'] = None\n",
    "df['weight'] = None\n",
    "df['frontB'] = None\n",
    "df['rearB'] = None\n",
    "df['link'] = None"
   ]
  },
  {
   "cell_type": "markdown",
   "metadata": {},
   "source": [
    "## Get config"
   ]
  },
  {
   "cell_type": "code",
   "execution_count": 12,
   "metadata": {},
   "outputs": [],
   "source": [
    "from tqdm import tqdm"
   ]
  },
  {
   "cell_type": "code",
   "execution_count": 113,
   "metadata": {},
   "outputs": [],
   "source": [
    "def init_driver():\n",
    "    service = Service(r'D:\\OneDrive - 东南大学\\5 我的代码\\crawling\\chromedriver\\chromedriver.exe')\n",
    "    chrome_options = Options()\n",
    "    chrome_options.add_argument('--headless')\n",
    "    chrome_options.add_experimental_option('excludeSwitches', ['enable-logging'])\n",
    "    prefs = {\"profile.managed_default_content_settings.images\": 2, 'permissions.default.stylesheet': 2}\n",
    "    chrome_options.add_experimental_option(\"prefs\", prefs)\n",
    "    chrome_options.add_argument('lang=zh_CN.utf-8')\n",
    "    driver = webdriver.Chrome(service=service, options=chrome_options)\n",
    "    return driver"
   ]
  },
  {
   "cell_type": "markdown",
   "metadata": {},
   "source": [
    "### 1 extract links"
   ]
  },
  {
   "cell_type": "code",
   "execution_count": 88,
   "metadata": {},
   "outputs": [
    {
     "name": "stderr",
     "output_type": "stream",
     "text": [
      "100%|██████████| 506/506 [07:48<00:00,  1.08it/s]\n"
     ]
    }
   ],
   "source": [
    "url = 'https://auto.16888.com/'\n",
    "\n",
    "service = Service(r'D:\\OneDrive - 东南大学\\5 我的代码\\crawling\\chromedriver\\chromedriver.exe')\n",
    "chrome_options = Options()\n",
    "chrome_options.add_argument('--headless')\n",
    "chrome_options.add_experimental_option('excludeSwitches', ['enable-logging'])\n",
    "prefs = {\"profile.managed_default_content_settings.images\": 2, 'permissions.default.stylesheet': 2}\n",
    "chrome_options.add_experimental_option(\"prefs\", prefs)\n",
    "chrome_options.add_argument('lang=zh_CN.utf-8')\n",
    "driver = webdriver.Chrome(service=service, options=chrome_options)\n",
    "\n",
    "try:\n",
    "    driver.get(url)\n",
    "except:\n",
    "    print(\"No Data.\")\n",
    "wait = WebDriverWait(driver, 10)\n",
    "\n",
    "for i in tqdm(range(df.shape[0])):\n",
    "\n",
    "    # get link\n",
    "    line = df.loc[i]\n",
    "    try:\n",
    "        link = driver.find_element(By.LINK_TEXT, line['model'])\n",
    "        link = link.get_attribute('href')\n",
    "        df.loc[i, 'link'] = link\n",
    "    except:\n",
    "        pass\n",
    "    \n",
    "driver.close()"
   ]
  },
  {
   "cell_type": "code",
   "execution_count": 89,
   "metadata": {},
   "outputs": [],
   "source": [
    "df.to_excel('./data/car_sale_2015_16.xlsx', index=False)"
   ]
  },
  {
   "cell_type": "markdown",
   "metadata": {},
   "source": [
    "### 2 get configs"
   ]
  },
  {
   "cell_type": "code",
   "execution_count": null,
   "metadata": {},
   "outputs": [],
   "source": [
    "for i in tqdm(range(df.shape[0])):\n",
    "    \n",
    "    link = df.loc[i, 'link']\n",
    "\n",
    "    if link:\n",
    "        driver = init_driver()\n",
    "        driver.get(link)\n",
    "    else:\n",
    "        continue\n",
    "    \n",
    "    # select a year\n",
    "    for y in list(range(2015, 2025, 1)):\n",
    "        try:\n",
    "            type_year = driver.find_element(By.LINK_TEXT, str(y)+'款')\n",
    "            type_year.click()\n",
    "            break\n",
    "        except:\n",
    "            pass\n",
    "    driver.implicitly_wait(0.5)\n",
    "    \n",
    "    # get config data\n",
    "    try:\n",
    "        link = driver.find_element(By.LINK_TEXT, '参数配置')\n",
    "        link.click()\n",
    "\n",
    "        driver.implicitly_wait(0.5)\n",
    "        config_table = driver.find_element(By.ID, 'config_main')  # data table\n",
    "        config_data = config_table.text\n",
    "\n",
    "        # config data extraction\n",
    "        config_data = config_data.split('\\n')\n",
    "        car_class = config_data[5].split()[1:]\n",
    "        fuel_type = config_data[49].split()[1:]\n",
    "        weight = config_data[26].split()[1:]\n",
    "        front_brake = config_data[66].split()[1:]\n",
    "        rear_brake = config_data[67].split()[1:]\n",
    "\n",
    "        # save\n",
    "        df.loc[i, 'fuel'] = str(fuel_type)\n",
    "        df.loc[i, 'class'] = str(car_class)\n",
    "        df.loc[i, 'weight'] = str(weight)\n",
    "        df.loc[i, 'frontB'] = str(front_brake)\n",
    "        df.loc[i, 'rearB'] = str(rear_brake)\n",
    "        \n",
    "    except:\n",
    "        pass\n",
    "\n",
    "    driver.close()"
   ]
  },
  {
   "cell_type": "code",
   "execution_count": 139,
   "metadata": {},
   "outputs": [],
   "source": [
    "df.to_excel('./data/car_sale_2015_16.xlsx', index=False)"
   ]
  }
 ],
 "metadata": {
  "kernelspec": {
   "display_name": "crawl",
   "language": "python",
   "name": "python3"
  },
  "language_info": {
   "codemirror_mode": {
    "name": "ipython",
    "version": 3
   },
   "file_extension": ".py",
   "mimetype": "text/x-python",
   "name": "python",
   "nbconvert_exporter": "python",
   "pygments_lexer": "ipython3",
   "version": "3.9.19"
  }
 },
 "nbformat": 4,
 "nbformat_minor": 2
}
